{
 "cells": [
  {
   "cell_type": "markdown",
   "metadata": {},
   "source": [
    "# Introduction to the MVTec-AD Dataset\n",
    "## Required packages\n",
    "* python=3.6\n",
    "* matplotlib\n",
    "* ipywidgets - an interactive ui for a demo. install with following commands.\n",
    "```bash\n",
    "pip install ipywidgets\n",
    "jupyter nbextension enable --py widgetsnbextension\n",
    "```\n",
    "and restart the jupyter notebook\n",
    "\n",
    "## File structure\n",
    "1. There are 15 categories\n",
    "2. Each category has \"ground_truth\", \"test\", \"train\" data\n",
    "3. The \"train\" data has only normal data (\"good\" directory)\n",
    "4. The \"test\" data has types of defects as sub-dir name e.g. (\"broken_large\", \"broken_small\", \"contamination\" for bottle category)\n",
    "5. The \"ground_truth\" data has masking image of the defect on the corresponding image in \"test\"\n",
    "\n",
    "```bash\n",
    "/mvtec-ad/   \n",
    "├── bottle (1st category)\n",
    "│   ├── ground_truth\n",
    "│   │   ├── broken_large\n",
    "│   │   ├── broken_small\n",
    "│   │   └── contamination\n",
    "│   ├── license.txt\n",
    "│   ├── readme.txt\n",
    "│   ├── test\n",
    "│   │   ├── broken_large\n",
    "│   │   ├── broken_small\n",
    "│   │   ├── contamination\n",
    "│   │   └── good\n",
    "│   └── train\n",
    "│       └── good\n",
    "├── ...\n",
    "└── zipper (15th category)\n",
    "```"
   ]
  },
  {
   "cell_type": "code",
   "execution_count": 37,
   "metadata": {},
   "outputs": [],
   "source": [
    "# import packages\n",
    "%matplotlib inline\n",
    "import matplotlib.pyplot as plt\n",
    "from ipywidgets import interact\n",
    "from collections import defaultdict\n",
    "import os\n",
    "from IPython.display import Image\n"
   ]
  },
  {
   "cell_type": "markdown",
   "metadata": {},
   "source": [
    "## Categories"
   ]
  },
  {
   "cell_type": "code",
   "execution_count": 23,
   "metadata": {},
   "outputs": [],
   "source": [
    "# Constants\n",
    "mvtec_home = '/lab_shared/datasets/mvtec-ad'\n",
    "ignores = ['license.txt', 'readme.txt']\n",
    "data_types = ['train', 'test', 'ground_truth']"
   ]
  },
  {
   "cell_type": "code",
   "execution_count": 36,
   "metadata": {
    "scrolled": true
   },
   "outputs": [
    {
     "name": "stdout",
     "output_type": "stream",
     "text": [
      "['transistor', 'capsule', 'carpet', 'grid', 'tile', 'leather', 'zipper', 'hazelnut', 'wood', 'screw', 'toothbrush', 'bottle', 'pill', 'metal_nut', 'cable']\n",
      "{'category': 'bottle', 'defects': ['contamination', 'broken_small', 'broken_large']}\n"
     ]
    },
    {
     "data": {
      "text/plain": [
       "\"\\ndata_info = [{category: 'bottle', defects: ['broken_large', 'broken_small', 'contamination'] }, {...}]\\n\\n\""
      ]
     },
     "execution_count": 36,
     "metadata": {},
     "output_type": "execute_result"
    }
   ],
   "source": [
    "data_info = []\n",
    "categories = list(set(os.listdir(mvtec_home)) - set(ignores))\n",
    "for c in categories:\n",
    "    defect_type = os.listdir(mvtec_home + '/' + c + '/ground_truth')\n",
    "    data_info.append({'category': c, 'defects': defect_type})\n",
    "#print(data_info)\n",
    "\n",
    "print([c['category'] for c in data_info])\n",
    "print([c for c in data_info if c['category']=='bottle'][0])\n",
    "'''\n",
    "data_info = [{category: 'bottle', defects: ['broken_large', 'broken_small', 'contamination'] }, {...}]\n",
    "\n",
    "'''"
   ]
  },
  {
   "cell_type": "markdown",
   "metadata": {},
   "source": [
    "## Sample showing (for bottle)\n",
    "### Normal"
   ]
  },
  {
   "cell_type": "code",
   "execution_count": 38,
   "metadata": {},
   "outputs": [
    {
     "data": {
      "application/vnd.jupyter.widget-view+json": {
       "model_id": "974ab2bf6630499b95811622e1bc9032",
       "version_major": 2,
       "version_minor": 0
      },
      "text/plain": [
       "interactive(children=(Dropdown(description='file', options=('097.png', '003.png', '089.png', '095.png', '201.p…"
      ]
     },
     "metadata": {},
     "output_type": "display_data"
    }
   ],
   "source": [
    "@interact\n",
    "def show_images(file=os.listdir(mvtec_home + '/bottle/train/good')):\n",
    "    display(Image(mvtec_home + '/bottle/train/good/'+file))"
   ]
  },
  {
   "cell_type": "markdown",
   "metadata": {},
   "source": [
    "### Abnormal - 'broken large'"
   ]
  },
  {
   "cell_type": "code",
   "execution_count": 39,
   "metadata": {
    "scrolled": false
   },
   "outputs": [
    {
     "data": {
      "application/vnd.jupyter.widget-view+json": {
       "model_id": "2b9d8a2f84604714bf4273714cf1426a",
       "version_major": 2,
       "version_minor": 0
      },
      "text/plain": [
       "interactive(children=(Dropdown(description='file', options=('003.png', '006.png', '016.png', '010.png', '015.p…"
      ]
     },
     "metadata": {},
     "output_type": "display_data"
    }
   ],
   "source": [
    "@interact\n",
    "def show_images(file=os.listdir('/lab_shared/datasets/mvtec-ad/bottle/test/broken_large')):\n",
    "    display(Image('/lab_shared/datasets/mvtec-ad/bottle/test/broken_large/'+file))\n"
   ]
  },
  {
   "cell_type": "markdown",
   "metadata": {},
   "source": [
    "### Masking label for abnormal - 'broken large'"
   ]
  },
  {
   "cell_type": "code",
   "execution_count": 44,
   "metadata": {
    "scrolled": false
   },
   "outputs": [
    {
     "data": {
      "application/vnd.jupyter.widget-view+json": {
       "model_id": "ee8e4bea004d4d808fe9cf2e42f71efe",
       "version_major": 2,
       "version_minor": 0
      },
      "text/plain": [
       "interactive(children=(Dropdown(description='file', options=('001_mask.png', '010_mask.png', '014_mask.png', '0…"
      ]
     },
     "metadata": {},
     "output_type": "display_data"
    }
   ],
   "source": [
    "@interact\n",
    "def show_images(file=os.listdir(mvtec_home + '/bottle/ground_truth/broken_large')):\n",
    "    display(Image(mvtec_home + '/bottle/ground_truth/broken_large/'+file))"
   ]
  },
  {
   "cell_type": "markdown",
   "metadata": {},
   "source": [
    "### Abnormal - 'contamination'"
   ]
  },
  {
   "cell_type": "code",
   "execution_count": 45,
   "metadata": {
    "scrolled": false
   },
   "outputs": [
    {
     "data": {
      "application/vnd.jupyter.widget-view+json": {
       "model_id": "0797d7681e984d08a3ba40b3c7d57e84",
       "version_major": 2,
       "version_minor": 0
      },
      "text/plain": [
       "interactive(children=(Dropdown(description='file', options=('003.png', '006.png', '016.png', '010.png', '015.p…"
      ]
     },
     "metadata": {},
     "output_type": "display_data"
    }
   ],
   "source": [
    "@interact\n",
    "def show_images(file=os.listdir('/lab_shared/datasets/mvtec-ad/bottle/test/contamination')):\n",
    "    display(Image('/lab_shared/datasets/mvtec-ad/bottle/test/contamination/'+file))"
   ]
  },
  {
   "cell_type": "markdown",
   "metadata": {},
   "source": [
    "### Abnormal for another type = 'transistor/misplaced'"
   ]
  },
  {
   "cell_type": "code",
   "execution_count": 17,
   "metadata": {},
   "outputs": [
    {
     "data": {
      "application/vnd.jupyter.widget-view+json": {
       "model_id": "20ed1d5bcfeb48d9a0cc4225f494a4c4",
       "version_major": 2,
       "version_minor": 0
      },
      "text/plain": [
       "interactive(children=(Dropdown(description='file', options=('003.png', '006.png', '008.png', '001.png', '009.p…"
      ]
     },
     "metadata": {},
     "output_type": "display_data"
    }
   ],
   "source": [
    "@interact\n",
    "def show_images(file=os.listdir('/lab_shared/datasets/mvtec-ad/transistor/test/misplaced')):\n",
    "    display(Image('/lab_shared/datasets/mvtec-ad/transistor/test/misplaced/'+file))"
   ]
  }
 ],
 "metadata": {
  "kernelspec": {
   "display_name": "Python 3",
   "language": "python",
   "name": "python3"
  },
  "language_info": {
   "codemirror_mode": {
    "name": "ipython",
    "version": 3
   },
   "file_extension": ".py",
   "mimetype": "text/x-python",
   "name": "python",
   "nbconvert_exporter": "python",
   "pygments_lexer": "ipython3",
   "version": "3.6.12"
  }
 },
 "nbformat": 4,
 "nbformat_minor": 4
}
